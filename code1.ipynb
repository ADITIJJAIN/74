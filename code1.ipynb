{
  "nbformat": 4,
  "nbformat_minor": 0,
  "metadata": {
    "colab": {
      "provenance": [],
      "toc_visible": true,
      "authorship_tag": "ABX9TyPziKrz6cu80qUqZbueMfqa",
      "include_colab_link": true
    },
    "kernelspec": {
      "name": "python3",
      "display_name": "Python 3"
    },
    "language_info": {
      "name": "python"
    }
  },
  "cells": [
    {
      "cell_type": "markdown",
      "metadata": {
        "id": "view-in-github",
        "colab_type": "text"
      },
      "source": [
        "<a href=\"https://colab.research.google.com/github/ADITIJJAIN/74/blob/main/code1.ipynb\" target=\"_parent\"><img src=\"https://colab.research.google.com/assets/colab-badge.svg\" alt=\"Open In Colab\"/></a>"
      ]
    },
    {
      "cell_type": "code",
      "execution_count": null,
      "metadata": {
        "id": "xRyLm-ze0X71"
      },
      "outputs": [],
      "source": []
    },
    {
      "cell_type": "code",
      "source": [
        "def count(num1, num2, choice):\n",
        "  result=0\n",
        "  if(choice==\"1\"):\n",
        "    result=num1+num2\n",
        "    print(\"what is \",  num1, \"+\", num2, \"=\" )\n",
        "    ans=int(input())\n",
        "    if(result==ans):\n",
        "      print(\"well done! your ans is correct\")\n",
        "\n",
        "  elif(choice==\"2\"):\n",
        "    result=num1-num2\n",
        "    print(\"what is\", num1, \"-\", num2, \"=\")\n",
        "    ans=int(input())\n",
        "    if(result==ans):\n",
        "      print(\"well done! your ans is correct\")\n",
        "\n",
        "  elif(choice==\"3\"):\n",
        "    result= num1/num2\n",
        "    print(\"what is\", num1, \"/\", num2, \"=\")\n",
        "    ans=int(input())\n",
        "    if(ans==result):\n",
        "      print(\"well done! your ans is correct\")\n",
        "\n",
        "  elif(choice==\"4\"):\n",
        "    result= num1*num2\n",
        "    print(\"what is\", num1, \"*\", num2, \"=\")\n",
        "    ans=int(input())\n",
        "    if(result==ans):\n",
        "      print(\"well done! your ans is correct\")\n",
        "\n",
        "  else:\n",
        "    print(\"sorry your ans is wrong\")\n",
        "\n",
        "\n",
        "\n"
      ],
      "metadata": {
        "id": "Uj4ISnE50ePP"
      },
      "execution_count": 1,
      "outputs": []
    },
    {
      "cell_type": "code",
      "source": [
        "import random\n",
        "print(\"choose anyone operation from below\")\n",
        "print(\"1-Addition\")\n",
        "print(\"2-Subraction\")\n",
        "print(\"3-Division\")\n",
        "print(\"4-Multiplication\")\n",
        "\n",
        "choice=input(\"enter your options(1/2/3/4)\")\n",
        "choices=(\"1\",\"2\",\"3\",\"4\")\n",
        "if choice in choices:\n",
        "  num1=random.randint(0,9)\n",
        "  num2=random.randint(0,9)\n",
        "  count(num1, num2, choice)\n",
        "\n",
        "else:\n",
        "  print(\"INVALID\")"
      ],
      "metadata": {
        "colab": {
          "base_uri": "https://localhost:8080/"
        },
        "id": "XsJOeawf3ptF",
        "outputId": "e13cf344-00bf-4348-cea3-b089ad062495"
      },
      "execution_count": 2,
      "outputs": [
        {
          "output_type": "stream",
          "name": "stdout",
          "text": [
            "choose anyone operation from below\n",
            "1-Addition\n",
            "2-Subraction\n",
            "3-Division\n",
            "4-Multiplication\n",
            "enter your options(1/2/3/4)2\n",
            "what is 5 - 6 =\n",
            "-1\n",
            "well done! your ans is correct\n"
          ]
        }
      ]
    },
    {
      "cell_type": "code",
      "source": [
        "from google.colab import drive\n",
        "drive.mount('/content/drive')"
      ],
      "metadata": {
        "id": "Fmpku_yd5n58"
      },
      "execution_count": null,
      "outputs": []
    }
  ]
}